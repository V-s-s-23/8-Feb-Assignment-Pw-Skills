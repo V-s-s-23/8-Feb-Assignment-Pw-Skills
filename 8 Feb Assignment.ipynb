{
 "cells": [
  {
   "cell_type": "markdown",
   "id": "b89d5c8d",
   "metadata": {},
   "source": [
    "# Q1. What is Abstraction in OOps? Explain with an example.\n",
    "### Answer:- Abstraction in Object-Oriented Programming (OOP) is a mechanism of hiding implementation details and exposing only the essential features of an object to the outside world. It means that an object's internal implementation is hidden, and only the object's external behavior is visible to the user. The goal of abstraction is to simplify complex systems by reducing the amount of information that needs to be dealt with."
   ]
  },
  {
   "cell_type": "code",
   "execution_count": 10,
   "id": "f489e65c",
   "metadata": {},
   "outputs": [],
   "source": [
    "# Exp:-\n",
    "class car:\n",
    "    \n",
    "    def __init__(self,make,model,year):\n",
    "        self.model = model\n",
    "        self.make = make\n",
    "        self.year = year\n",
    "        \n",
    "    def start(self):\n",
    "        print(f\"{self.make} {self.model} started\")\n",
    "        \n",
    "    def stop(self):\n",
    "        print(f\"{self.make} {self.model} closed\")"
   ]
  },
  {
   "cell_type": "code",
   "execution_count": 11,
   "id": "bdcaf215",
   "metadata": {},
   "outputs": [],
   "source": [
    "my = car('Toyota','Camry',2021)"
   ]
  },
  {
   "cell_type": "code",
   "execution_count": 12,
   "id": "8044e218",
   "metadata": {},
   "outputs": [
    {
     "name": "stdout",
     "output_type": "stream",
     "text": [
      "Toyota Camry started\n"
     ]
    }
   ],
   "source": [
    "my.start()"
   ]
  },
  {
   "cell_type": "code",
   "execution_count": 13,
   "id": "a845a7fd",
   "metadata": {},
   "outputs": [
    {
     "name": "stdout",
     "output_type": "stream",
     "text": [
      "Toyota Camry closed\n"
     ]
    }
   ],
   "source": [
    "my.stop()"
   ]
  },
  {
   "cell_type": "code",
   "execution_count": null,
   "id": "c403365b",
   "metadata": {},
   "outputs": [],
   "source": []
  },
  {
   "cell_type": "markdown",
   "id": "40a2ee89",
   "metadata": {},
   "source": [
    "# Q2.Differentiate between Abstraction and Encapsulation. Explain with an example.\n",
    "### Answer=>  Abstraction focuses on hiding the implementation details, while Encapsulation focuses on binding together the data and the functions that manipulate the data within an object, and hiding the implementation details from the outside world."
   ]
  },
  {
   "cell_type": "code",
   "execution_count": 14,
   "id": "81e62943",
   "metadata": {},
   "outputs": [],
   "source": [
    "class Car:\n",
    "    def __init__(self, make, model, year, speed):\n",
    "        self.__make = make\n",
    "        self.__model = model\n",
    "        self.__year = year\n",
    "        self._speed = speed\n",
    "\n",
    "    def accelerate(self, amount):\n",
    "        self._speed += amount\n",
    "\n",
    "    def brake(self, amount):\n",
    "        self._speed -= amount\n",
    "\n",
    "    def get_speed(self):\n",
    "        return self._speed\n",
    "\n",
    "class SportsCar(Car):\n",
    "    def __init__(self, make, model, year, speed, turbo):\n",
    "        super().__init__(make, model, year, speed)\n",
    "        self.__turbo = turbo\n",
    "\n",
    "    def activate_turbo(self):\n",
    "        self.__turbo = True\n",
    "\n",
    "    def deactivate_turbo(self):\n",
    "        self.__turbo = False\n",
    "\n",
    "    def accelerate(self, amount):\n",
    "        if self.__turbo:\n",
    "            amount *= 2\n",
    "        self._speed += amount"
   ]
  },
  {
   "cell_type": "code",
   "execution_count": 15,
   "id": "4cd7f2bf",
   "metadata": {},
   "outputs": [
    {
     "name": "stdout",
     "output_type": "stream",
     "text": [
      "10\n",
      "30\n"
     ]
    }
   ],
   "source": [
    "my_car = SportsCar(\"Porsche\", \"911 Turbo S\", 2022, 0, False)\n",
    "\n",
    "my_car.accelerate(10)\n",
    "print(my_car.get_speed()) \n",
    "\n",
    "my_car.activate_turbo()\n",
    "my_car.accelerate(10)\n",
    "print(my_car.get_speed())"
   ]
  },
  {
   "cell_type": "markdown",
   "id": "761d898e",
   "metadata": {},
   "source": [
    "### Encapsulation is achieved by declaring the attributes of the car (make, model, year, and speed) as private (denoted by the double underscore __) or protected (denoted by a single underscore _), and providing methods to access and modify these attributes. This protects the data from outside interference and accidental modification, and helps to prevent the code from being broken by changes in other parts of the code.\n",
    "\n",
    "### Abstraction is achieved by the use of inheritance. The SportsCar class only needs to define the behavior that is specific to sports cars and can reuse the behavior defined in the Car class. This allows the user to interact with a sports car as if it were a regular car, without having to know the specific details of how a sports car is implemented."
   ]
  },
  {
   "cell_type": "markdown",
   "id": "0054ec5e",
   "metadata": {},
   "source": [
    "# Q3.What is the ABC module in python? Why is it used.\n",
    "### Answer=> ABC, which stands for Abstract Base Class, is a module in Python that provides a way to define abstract classes, which are classes that cannot be instantiated, but can be subclassed. It is a way of creating a blueprint for a class and defining methods that are required to be implemented by any subclass that is created.\n",
    "### ABC is used in a variety of applications, including creating reusable code, defining interfaces between objects, and enforcing contracts between objects."
   ]
  },
  {
   "cell_type": "markdown",
   "id": "d9978d23",
   "metadata": {},
   "source": [
    "# Q4.How can we achieve data abstraction?\n",
    "### Answer=> There are several ways to achieve data abstraction in Python:\n",
    "### 1.Encapsulation\n",
    "### 2. Abstract Classes etc."
   ]
  },
  {
   "cell_type": "markdown",
   "id": "053f2551",
   "metadata": {},
   "source": [
    "# Q5. Can we create an instance of an abstract class? Explain your answer.\n",
    "### Answer=> No, we cannot create an instance of an abstract class. An abstract class is a blueprint for other classes. It defines the common properties and methods that will be shared by its subclasses, but it cannot be instantiated on its own."
   ]
  },
  {
   "cell_type": "code",
   "execution_count": null,
   "id": "597e1aa6",
   "metadata": {},
   "outputs": [],
   "source": []
  }
 ],
 "metadata": {
  "kernelspec": {
   "display_name": "Python 3 (ipykernel)",
   "language": "python",
   "name": "python3"
  },
  "language_info": {
   "codemirror_mode": {
    "name": "ipython",
    "version": 3
   },
   "file_extension": ".py",
   "mimetype": "text/x-python",
   "name": "python",
   "nbconvert_exporter": "python",
   "pygments_lexer": "ipython3",
   "version": "3.9.12"
  }
 },
 "nbformat": 4,
 "nbformat_minor": 5
}
